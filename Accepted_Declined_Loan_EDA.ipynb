{
 "cells": [
  {
   "cell_type": "markdown",
   "metadata": {},
   "source": [
    "# Analysis of Rejected loans and it's relation with Approved Loans.\n",
    "\n",
    "Questions we are trying to answer in our analysis.\n",
    "    1. No of rejects over time? Increase/Decrease?\n",
    "    2. DTI ratio of people getting most rejected loans and accepted loan.\n",
    "    3. States where there are most rejected loans.\n",
    "    4. Does Employment length has to do anything with rejection of loans?\n",
    "    5. Frequency plot for Employment Length\n",
    "    6. Based on the employment length, What is the appropiate loan amount people should apply for?\n",
    "    7. No. of loans for each employment length.\n",
    "    8. Relationship of Amount requested and employment length?"
   ]
  },
  {
   "cell_type": "code",
   "execution_count": null,
   "metadata": {},
   "outputs": [],
   "source": [
    "# Read loan data from lending club\n",
    "\n",
    "import pandas as pd\n",
    "import datetime\n",
    "\n",
    "# Creating data frames all_data and all_data_declined for aceepted and declined loans.\n",
    "\n",
    "all_data = pd.read_csv('clean_accepted_loans.csv',index_col = 'issue_d') ##encoding = 'iso-8859-1')\n",
    "all_data_declined = pd.read_csv('RejectLoan.csv', index_col='Application Date')"
   ]
  },
  {
   "cell_type": "code",
   "execution_count": 15,
   "metadata": {},
   "outputs": [],
   "source": [
    "## accepted loans\n",
    "# setting issue_d as index\n",
    "#all_data.set_index('issue_d', inplace=True)\n",
    "#all_data_declined.set_index('Application Date', inplace=True)\n",
    "\n",
    "# changing index (issue_d) to datetime (date-month-year-time) so that we can sort it\n",
    "all_data.index = pd.to_datetime(all_data.index)\n",
    "all_data_declined.index = pd.to_datetime(all_data_declined.index)\n",
    "\n",
    "# sorting the columns\n",
    "all_data.sort_index(axis=1, inplace=True)\n",
    "all_data_declined.sort_index(axis=1, inplace=True)\n",
    "\n"
   ]
  },
  {
   "cell_type": "code",
   "execution_count": 16,
   "metadata": {},
   "outputs": [
    {
     "data": {
      "text/html": [
       "<div>\n",
       "<style scoped>\n",
       "    .dataframe tbody tr th:only-of-type {\n",
       "        vertical-align: middle;\n",
       "    }\n",
       "\n",
       "    .dataframe tbody tr th {\n",
       "        vertical-align: top;\n",
       "    }\n",
       "\n",
       "    .dataframe thead th {\n",
       "        text-align: right;\n",
       "    }\n",
       "</style>\n",
       "<table border=\"1\" class=\"dataframe\">\n",
       "  <thead>\n",
       "    <tr style=\"text-align: right;\">\n",
       "      <th></th>\n",
       "      <th>Amount Requested</th>\n",
       "      <th>Debt-To-Income Ratio</th>\n",
       "      <th>Employment Length</th>\n",
       "      <th>Loan Title</th>\n",
       "      <th>Policy Code</th>\n",
       "      <th>Risk_Score</th>\n",
       "      <th>State</th>\n",
       "      <th>Zip Code</th>\n",
       "    </tr>\n",
       "    <tr>\n",
       "      <th>Application Date</th>\n",
       "      <th></th>\n",
       "      <th></th>\n",
       "      <th></th>\n",
       "      <th></th>\n",
       "      <th></th>\n",
       "      <th></th>\n",
       "      <th></th>\n",
       "      <th></th>\n",
       "    </tr>\n",
       "  </thead>\n",
       "  <tbody>\n",
       "    <tr>\n",
       "      <th>2007-05-26</th>\n",
       "      <td>1000.0</td>\n",
       "      <td>0.10</td>\n",
       "      <td>4 years</td>\n",
       "      <td>Wedding Covered but No Honeymoon</td>\n",
       "      <td>0</td>\n",
       "      <td>693.0</td>\n",
       "      <td>NM</td>\n",
       "      <td>481xx</td>\n",
       "    </tr>\n",
       "    <tr>\n",
       "      <th>2007-05-26</th>\n",
       "      <td>1000.0</td>\n",
       "      <td>0.10</td>\n",
       "      <td>&lt; 1 year</td>\n",
       "      <td>Consolidating Debt</td>\n",
       "      <td>0</td>\n",
       "      <td>703.0</td>\n",
       "      <td>MA</td>\n",
       "      <td>010xx</td>\n",
       "    </tr>\n",
       "    <tr>\n",
       "      <th>2007-05-27</th>\n",
       "      <td>11000.0</td>\n",
       "      <td>0.10</td>\n",
       "      <td>1 year</td>\n",
       "      <td>Want to consolidate my debt</td>\n",
       "      <td>0</td>\n",
       "      <td>715.0</td>\n",
       "      <td>MD</td>\n",
       "      <td>212xx</td>\n",
       "    </tr>\n",
       "    <tr>\n",
       "      <th>2007-05-27</th>\n",
       "      <td>6000.0</td>\n",
       "      <td>0.39</td>\n",
       "      <td>&lt; 1 year</td>\n",
       "      <td>waksman</td>\n",
       "      <td>0</td>\n",
       "      <td>698.0</td>\n",
       "      <td>MA</td>\n",
       "      <td>017xx</td>\n",
       "    </tr>\n",
       "    <tr>\n",
       "      <th>2007-05-27</th>\n",
       "      <td>1500.0</td>\n",
       "      <td>0.09</td>\n",
       "      <td>&lt; 1 year</td>\n",
       "      <td>mdrigo</td>\n",
       "      <td>0</td>\n",
       "      <td>509.0</td>\n",
       "      <td>MD</td>\n",
       "      <td>209xx</td>\n",
       "    </tr>\n",
       "  </tbody>\n",
       "</table>\n",
       "</div>"
      ],
      "text/plain": [
       "                  Amount Requested  Debt-To-Income Ratio Employment Length  \\\n",
       "Application Date                                                             \n",
       "2007-05-26                  1000.0                  0.10           4 years   \n",
       "2007-05-26                  1000.0                  0.10          < 1 year   \n",
       "2007-05-27                 11000.0                  0.10            1 year   \n",
       "2007-05-27                  6000.0                  0.39          < 1 year   \n",
       "2007-05-27                  1500.0                  0.09          < 1 year   \n",
       "\n",
       "                                        Loan Title  Policy Code  Risk_Score  \\\n",
       "Application Date                                                              \n",
       "2007-05-26        Wedding Covered but No Honeymoon            0       693.0   \n",
       "2007-05-26                      Consolidating Debt            0       703.0   \n",
       "2007-05-27             Want to consolidate my debt            0       715.0   \n",
       "2007-05-27                                 waksman            0       698.0   \n",
       "2007-05-27                                  mdrigo            0       509.0   \n",
       "\n",
       "                 State Zip Code  \n",
       "Application Date                 \n",
       "2007-05-26          NM    481xx  \n",
       "2007-05-26          MA    010xx  \n",
       "2007-05-27          MD    212xx  \n",
       "2007-05-27          MA    017xx  \n",
       "2007-05-27          MD    209xx  "
      ]
     },
     "execution_count": 16,
     "metadata": {},
     "output_type": "execute_result"
    }
   ],
   "source": [
    "all_data_declined.head()"
   ]
  },
  {
   "cell_type": "code",
   "execution_count": 17,
   "metadata": {},
   "outputs": [
    {
     "data": {
      "text/plain": [
       "<matplotlib.axes._subplots.AxesSubplot at 0x198864a7710>"
      ]
     },
     "execution_count": 17,
     "metadata": {},
     "output_type": "execute_result"
    },
    {
     "data": {
      "image/png": "[encoded data removed]",
      "text/plain": [
       "<Figure size 432x288 with 1 Axes>"
      ]
     },
     "metadata": {},
     "output_type": "display_data"
    }
   ],
   "source": [
    "rejects = all_data_declined.groupby(all_data_declined.index.year)['Amount Requested'].count()\n",
    "rejects.plot(kind='bar')"
   ]
  },
  {
   "cell_type": "markdown",
   "metadata": {},
   "source": [
    "Observation: As we have been observing in accepted loans file, it is true in rejected files too that the number of loan entries in lending loan dataset has incresed overtime."
   ]
  },
  {
   "cell_type": "markdown",
   "metadata": {},
   "source": [
    "# Debt to Income Ratio\n",
    "Below we compare the dti ratio between accepted and rejected loans. We will do a side by side comparison to get an idea of the difference between them.\n",
    "\n",
    "Calculate the top 20 DTI ratio of accepted and rejected loans. And then plot them"
   ]
  },
  {
   "cell_type": "code",
   "execution_count": 18,
   "metadata": {},
   "outputs": [
    {
     "data": {
      "text/plain": [
       "Application Date\n",
       "2012-03-12    44088.0\n",
       "2009-08-11    39672.0\n",
       "2007-12-20    36264.0\n",
       "2009-06-08    34188.0\n",
       "2012-10-29    32256.0\n",
       "2009-05-19    27996.0\n",
       "2012-05-22    23844.0\n",
       "2009-02-26    19884.0\n",
       "2009-07-09    19848.0\n",
       "2009-06-01    19248.0\n",
       "2009-10-04    18864.0\n",
       "2008-12-17    16908.0\n",
       "2009-05-16    16668.0\n",
       "2009-04-16    15384.0\n",
       "2009-07-07    15228.0\n",
       "2012-03-08    14992.2\n",
       "2009-04-25    14448.0\n",
       "2008-07-30    14208.0\n",
       "2009-02-18    13620.0\n",
       "Name: Debt-To-Income Ratio, dtype: float64"
      ]
     },
     "execution_count": 18,
     "metadata": {},
     "output_type": "execute_result"
    }
   ],
   "source": [
    "dti_accepted_100 = all_data['dti'].sort_values(ascending = False)[1:20]\n",
    "dti_rejected_100 = all_data_declined['Debt-To-Income Ratio'].sort_values(ascending = False)[1:20]\n",
    "dti_rejected_100"
   ]
  },
  {
   "cell_type": "code",
   "execution_count": 19,
   "metadata": {},
   "outputs": [
    {
     "data": {
      "image/png": "[encoded data removed]",
      "text/plain": [
       "<Figure size 432x288 with 2 Axes>"
      ]
     },
     "metadata": {},
     "output_type": "display_data"
    }
   ],
   "source": [
    "# DTI ratio of people getting most rejected loans.\n",
    "import matplotlib.pyplot as plt\n",
    "%matplotlib inline\n",
    "\n",
    "fig = plt.figure(16, 4)\n",
    "ax = fig.add_subplot(111)\n",
    "ax2 = ax.twinx()\n",
    "dti_accepted_100.plot(kind='bar',color='green',ax = ax, position = 1)\n",
    "dti_rejected_100.plot(kind='bar',color = 'blue', ax = ax2, position = 2)\n",
    "ax.set_ylabel= ('accepted loans')\n",
    "ax2.set_ylabel=('rejected loans')\n",
    "plt.show()"
   ]
  },
  {
   "cell_type": "code",
   "execution_count": 20,
   "metadata": {},
   "outputs": [
    {
     "data": {
      "text/plain": [
       "<matplotlib.axes._subplots.AxesSubplot at 0x198cd155f98>"
      ]
     },
     "execution_count": 20,
     "metadata": {},
     "output_type": "execute_result"
    },
    {
     "data": {
      "image/png": "[encoded data removed]",
      "text/plain": [
       "<Figure size 432x288 with 1 Axes>"
      ]
     },
     "metadata": {},
     "output_type": "display_data"
    }
   ],
   "source": [
    "#States and Accepted/Rejected Loans\n",
    "#Taking our analysis on rejected loans further, we analyze the distribution of rejected loans across state and try to visualize if there are particular states where loans are more rejected than another.\n",
    "\n",
    "#Plotting top 10 states having maximum number of rejected loans.\n",
    "\n",
    "rr = all_data_declined.groupby('State')['Zip Code'].count().sort_values(ascending=False)[0:10]\n",
    "rr.plot(kind='bar', fontsize=7)"
   ]
  },
  {
   "cell_type": "code",
   "execution_count": 21,
   "metadata": {},
   "outputs": [
    {
     "data": {
      "text/plain": [
       "<matplotlib.axes._subplots.AxesSubplot at 0x198cbf5c550>"
      ]
     },
     "execution_count": 21,
     "metadata": {},
     "output_type": "execute_result"
    },
    {
     "data": {
      "image/png": "[encoded data removed]",
      "text/plain": [
       "<Figure size 432x288 with 1 Axes>"
      ]
     },
     "metadata": {},
     "output_type": "display_data"
    }
   ],
   "source": [
    "#Plotting top 10 states having maximum number of accepted loans.\n",
    "\n",
    "tt = all_data.groupby('addr_state')['id'].count().sort_values(ascending=False)[0:10]\n",
    "tt.plot(kind='bar', fontsize=7)"
   ]
  },
  {
   "cell_type": "code",
   "execution_count": 22,
   "metadata": {},
   "outputs": [
    {
     "data": {
      "text/plain": [
       "<matplotlib.axes._subplots.AxesSubplot at 0x19886973c88>"
      ]
     },
     "execution_count": 22,
     "metadata": {},
     "output_type": "execute_result"
    },
    {
     "data": {
      "image/png": "[encoded data removed]",
      "text/plain": [
       "<Figure size 432x288 with 1 Axes>"
      ]
     },
     "metadata": {},
     "output_type": "display_data"
    }
   ],
   "source": [
    "#Relationship between Employment length and rejection of loans?\n",
    "#Let's plot the number of rejected loans per Employment length.\n",
    "\n",
    "pp = all_data_declined.groupby('Employment Length')['Zip Code'].count()\n",
    "pp.plot(kind='bar')"
   ]
  },
  {
   "cell_type": "code",
   "execution_count": 23,
   "metadata": {},
   "outputs": [
    {
     "data": {
      "text/plain": [
       "<matplotlib.axes._subplots.AxesSubplot at 0x19886a7f2e8>"
      ]
     },
     "execution_count": 23,
     "metadata": {},
     "output_type": "execute_result"
    },
    {
     "data": {
      "image/png": "[encoded data removed]",
      "text/plain": [
       "<Figure size 432x288 with 1 Axes>"
      ]
     },
     "metadata": {},
     "output_type": "display_data"
    }
   ],
   "source": [
    "#Observation: We can clearly observe from the above plot that Employment length has direct corelation with loan rejection. More than 90 percent of the loans are rejected when the applicant has less than 1 year of employment.\n",
    "\n",
    "#Relationship of Amount requested and employment length?\n",
    "\n",
    "ii = all_data_declined.groupby('Employment Length')['Amount Requested'].mean().sort_values(ascending=False)\n",
    "ii.plot(kind='line')"
   ]
  },
  {
   "cell_type": "markdown",
   "metadata": {},
   "source": [
    "Observation: From the above graph we conclude that there is no direct relation between Employment length and Loan Amount. Average Loan amount requested is higher if the employment length is higher."
   ]
  }
 ],
 "metadata": {
  "kernelspec": {
   "display_name": "Python [default]",
   "language": "python",
   "name": "python3"
  },
  "language_info": {
   "codemirror_mode": {
    "name": "ipython",
    "version": 3
   },
   "file_extension": ".py",
   "mimetype": "text/x-python",
   "name": "python",
   "nbconvert_exporter": "python",
   "pygments_lexer": "ipython3",
   "version": "3.6.4"
  }
 },
 "nbformat": 4,
 "nbformat_minor": 2
}
